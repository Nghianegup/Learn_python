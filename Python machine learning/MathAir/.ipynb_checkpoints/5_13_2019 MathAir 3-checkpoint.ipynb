{
 "cells": [
  {
   "cell_type": "markdown",
   "metadata": {},
   "source": [
    "## MathAir 3: Vector và không gian vector"
   ]
  },
  {
   "cell_type": "markdown",
   "metadata": {},
   "source": [
    "### Có 2 cách để hình dung vector:\n",
    "   - Vector là 1 mũi tên $|--->$ (có gốc, ngọn, hướng, độ lớn) \n",
    "   - Vector l điểm trong không gian vector\n",
    "\n",
    "#### Vector space ≡ 4-tuple (V , R, +, *) \n",
    "   #### Trong đó: \n",
    "   - 'V' là không gian các vector\n",
    "   - 'R' trường các số tính toán trên vector này\n",
    "   - Cộng vector\n",
    "   - nhân vector với 1 con số vô hướng \n",
    "   \n",
    "### Định nghĩa: Nếu tập hợp V cùng 2 phép toán$^1$ thỏa 2 điều kiện\n",
    "   - 1) cộng 2 phần tử: u + v $\\epsilon$ V, với mọi u, v $\\epsilon$ V (tịnh tiến)\n",
    "   - 2) nhân 1 số, ví dụ số : av $\\epsilon$ V, với mọi v $\\epsilon$ V, a $\\epsilon$ R\n",
    "   - "
   ]
  },
  {
   "cell_type": "code",
   "execution_count": null,
   "metadata": {},
   "outputs": [],
   "source": []
  }
 ],
 "metadata": {
  "kernelspec": {
   "display_name": "Python 3",
   "language": "python",
   "name": "python3"
  },
  "language_info": {
   "codemirror_mode": {
    "name": "ipython",
    "version": 3
   },
   "file_extension": ".py",
   "mimetype": "text/x-python",
   "name": "python",
   "nbconvert_exporter": "python",
   "pygments_lexer": "ipython3",
   "version": "3.7.1"
  }
 },
 "nbformat": 4,
 "nbformat_minor": 2
}
