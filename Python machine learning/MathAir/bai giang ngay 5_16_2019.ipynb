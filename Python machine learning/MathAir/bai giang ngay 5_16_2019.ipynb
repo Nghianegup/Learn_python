{
 "cells": [
  {
   "cell_type": "markdown",
   "metadata": {},
   "source": [
    "## Tóm tắt bài giảng ngày 5/16/2019"
   ]
  },
  {
   "cell_type": "markdown",
   "metadata": {},
   "source": [
    "- Có 1 tấm hình $R^{n(cột) x m(hàng) x k(mảng màu)}$ .Ta có đầu vào X $\\epsilon$ $R^{n(cột) x m(hàng) x k(mảng màu}$ đưa qua 'f' và cho ra đầu ra là 'Y $\\epsilon$ $R^a$ trong bài toán phân loại cho R = {chó,mèo,người,gà}  ..ví dụ: X = gà thì cho ra Y =[0,0,0,1]. Trong đó ta đưa X ra 2 chặng. Chặng 1 đưa qua $E$ để tìm kiếm trong không gian tấm hình có bao nhiêu. VD:$E_1$ là màu tóc đen, nâu, xám, vàng... và đưa ra 1 con số, $E_2$ là kiểu tóc dài, ngắn, xoăn... và đưa ra 1 con số.... Vậy mỗi đầu ra của hàm $E$ là 1 con số ta có $E = [E_1,, E_2, E_3, ... E_d]$ v là ta có $E(x)$ = $Z = [Z_1, Z_2...Z_d]$ tương ứng với $Z_1$ = $E_1(x)$.. $\\epsilon$ $R^d$ ==> ta có Z $\\epsilon$ $R^d$.. Với Y $\\epsilon$ $R^a$ ta có $Y = [Y_1,Y_2...Y_a]$ Vì có sự sai lệch giữa $R^d$ và $R^a$ nên ta đưa hàm Z $\\epsilon$ $R^d$ qua $C_d$ có được $ŷ = [C_1(z),C_2(z)... C_n(z)]$ Khi có $ŷ$ ta so sánh khoảng cách giữa $ŷ$ và $Y$ Ta có hàm $distance_{d(ŷ,y)} = ?$\n",
    "- Có X --> $F^*$ --> Y . Ta không biết hàm $F^*$ là gì v thì mình phải đi kiếm các hàm tương đương là $F_n$. để nhận biết hàm $F_n$ có giống với $F^*$ hay không ta xét đầu ra của $F_n$ chênh nhau bao nhiêu với đầu ra hàm $F^*$. Và để tính được khoảng cách chênh lệch ta lấy rất nhiều đầu vào $X_n$ và đầu ra $Y_n$ đưa qua hàm $F_n$ để cho ra đầu ra $ŷ_n$ và đem đi so sánh với $Y_n$. Để hàm $F_n$ gần với hàm $F^*$ thì khoảng cách giữa $ŷ_n$ và $Y_n$ càng nhỏ càng tốt.\n",
    "- Với hàm biến đổi linear regression ta có đầu ra là 1 con số thực. Ta lấy đầu vào ban đầu trừ cho đầu vào dự đoán. Vì khi trừ với số lớn hơn số có thể bị âm nên ta bình phuong hàm đó. Và để tính cho tất cả data_set$_n$ ta tính tổng của bình phương sai số vì n có thể sẽ rất lớn nên ta chia hàm đó cho n "
   ]
  },
  {
   "cell_type": "code",
   "execution_count": null,
   "metadata": {},
   "outputs": [],
   "source": []
  }
 ],
 "metadata": {
  "kernelspec": {
   "display_name": "Python 3",
   "language": "python",
   "name": "python3"
  },
  "language_info": {
   "codemirror_mode": {
    "name": "ipython",
    "version": 3
   },
   "file_extension": ".py",
   "mimetype": "text/x-python",
   "name": "python",
   "nbconvert_exporter": "python",
   "pygments_lexer": "ipython3",
   "version": "3.7.1"
  }
 },
 "nbformat": 4,
 "nbformat_minor": 2
}
